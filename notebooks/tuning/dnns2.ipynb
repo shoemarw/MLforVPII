{
 "cells": [
  {
   "cell_type": "code",
   "execution_count": null,
   "metadata": {},
   "outputs": [],
   "source": [
    "import pandas as pd\n",
    "import numpy as np\n",
    "import math\n",
    "import sys  \n",
    "sys.path.insert(0, '../src')\n",
    "from dnns2 import *"
   ]
  },
  {
   "cell_type": "code",
   "execution_count": null,
   "metadata": {},
   "outputs": [],
   "source": [
    "filename = \"../data/1M-LdSt2.csv\"\n",
    "df = prepDataFrame(filename)\n",
    "num_training_examples = int(0.8*len(df))\n",
    "X_tr, X_te, y_tr, y_te = test_train_split(df, num_training_examples)"
   ]
  },
  {
   "cell_type": "code",
   "execution_count": null,
   "metadata": {
    "scrolled": false
   },
   "outputs": [],
   "source": [
    "widths = [150]#[200,150,100]#[50, 40, 30, 20, 10, 5]\n",
    "rates  = [0.001] #[0.001, 0.0075, 0.0005]\n",
    "epochs = [100] #[100]\n",
    "exp_data = pd.DataFrame(columns=['epochs', 'width', 'rate', 'error'])\n",
    "\n",
    "best_model = build_model()\n",
    "best_error = 10000\n",
    "\n",
    "row = 0\n",
    "for e in epochs:\n",
    "    for w in widths:\n",
    "        for r in rates:\n",
    "            # do 5 experiments for each hyperparameter combo\n",
    "            for i in range(5):\n",
    "                print(\"---e = \" + str(e) + \" w = \" + str(w) + ' r = ' + str(r) + ' i = ' + str(i) + \"---\")\n",
    "                # build, train, and test model. then compute the error\n",
    "                model = build_model(do1=w, do2=w, do3=w, do4=w, do5=w, l_rate=r)\n",
    "                model.fit(X_tr, y_tr, epochs=e, verbose=False)\n",
    "                predictions = model.predict(X_te)\n",
    "                rmse = get_rmse(predictions, y_te, y_te.shape[0])\n",
    "\n",
    "                # record the network paramaters and error\n",
    "                exp_data.loc[row] = [e, w, r, rmse]\n",
    "                row += 1\n",
    "\n",
    "                print(\"rmse = \" + str(rmse))\n",
    "                # see if this model is the best yet, if so save it\n",
    "                if rmse < best_error:\n",
    "                    best_error = rmse\n",
    "                    best_model = model\n",
    "\n",
    "# record the experimental data\n",
    "exp_data.to_csv(filename[:-4] + '-experiments-dnn2.csv',index=False)\n",
    "# Save the best model\n",
    "#best_model.save(filename[:-4] + '-best-model-dnn2')\n",
    "print('DONE')"
   ]
  },
  {
   "cell_type": "code",
   "execution_count": null,
   "metadata": {},
   "outputs": [],
   "source": [
    "# To load a previously saved model:\n",
    "# model = keras.models.load_model('path/to/location')"
   ]
  },
  {
   "cell_type": "code",
   "execution_count": null,
   "metadata": {},
   "outputs": [],
   "source": [
    "# break everyting up into 16 bits, if that doesnt work then add more stores."
   ]
  }
 ],
 "metadata": {
  "kernelspec": {
   "display_name": "Python 3",
   "language": "python",
   "name": "python3"
  },
  "language_info": {
   "codemirror_mode": {
    "name": "ipython",
    "version": 3
   },
   "file_extension": ".py",
   "mimetype": "text/x-python",
   "name": "python",
   "nbconvert_exporter": "python",
   "pygments_lexer": "ipython3",
   "version": "3.7.6"
  }
 },
 "nbformat": 4,
 "nbformat_minor": 4
}
